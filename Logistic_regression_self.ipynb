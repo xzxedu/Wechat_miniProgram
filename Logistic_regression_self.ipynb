{
 "cells": [
  {
   "cell_type": "code",
   "execution_count": 2,
   "metadata": {},
   "outputs": [],
   "source": [
    "import numpy as np\n",
    "%run Function.py"
   ]
  },
  {
   "cell_type": "markdown",
   "metadata": {},
   "source": [
    "### Function definitions"
   ]
  },
  {
   "cell_type": "code",
   "execution_count": 3,
   "metadata": {},
   "outputs": [],
   "source": [
    "def calculate_predict(x, weight):\n",
    "    \"\"\"\n",
    "       This function is used to compute y_predict\n",
    "    \"\"\"\n",
    "    p = sigmoid(np.dot(x, weight))\n",
    "    y_predict = np.zeros(len(p))\n",
    "    for i in range(len(p)):\n",
    "        if p[i] >= 0.5:\n",
    "            y_predict[i] = 1\n",
    "        else:\n",
    "             y_predict[i] = 0\n",
    "    return y_predict"
   ]
  },
  {
   "cell_type": "markdown",
   "metadata": {},
   "source": [
    "### Load data from mysql database"
   ]
  },
  {
   "cell_type": "code",
   "execution_count": 4,
   "metadata": {},
   "outputs": [
    {
     "data": {
      "text/html": [
       "<div>\n",
       "<style scoped>\n",
       "    .dataframe tbody tr th:only-of-type {\n",
       "        vertical-align: middle;\n",
       "    }\n",
       "\n",
       "    .dataframe tbody tr th {\n",
       "        vertical-align: top;\n",
       "    }\n",
       "\n",
       "    .dataframe thead th {\n",
       "        text-align: right;\n",
       "    }\n",
       "</style>\n",
       "<table border=\"1\" class=\"dataframe\">\n",
       "  <thead>\n",
       "    <tr style=\"text-align: right;\">\n",
       "      <th></th>\n",
       "      <th>User_id</th>\n",
       "      <th>User_Age</th>\n",
       "      <th>User_Work_year</th>\n",
       "      <th>Income</th>\n",
       "      <th>Debt</th>\n",
       "      <th>Borrow</th>\n",
       "      <th>Repay</th>\n",
       "    </tr>\n",
       "  </thead>\n",
       "  <tbody>\n",
       "    <tr>\n",
       "      <th>0</th>\n",
       "      <td>1435223</td>\n",
       "      <td>24.0</td>\n",
       "      <td>2.0</td>\n",
       "      <td>28.0</td>\n",
       "      <td>17.3</td>\n",
       "      <td>1</td>\n",
       "      <td>0</td>\n",
       "    </tr>\n",
       "    <tr>\n",
       "      <th>1</th>\n",
       "      <td>172344</td>\n",
       "      <td>40.0</td>\n",
       "      <td>15.0</td>\n",
       "      <td>120.0</td>\n",
       "      <td>2.9</td>\n",
       "      <td>1</td>\n",
       "      <td>1</td>\n",
       "    </tr>\n",
       "    <tr>\n",
       "      <th>2</th>\n",
       "      <td>18661377320</td>\n",
       "      <td>NaN</td>\n",
       "      <td>NaN</td>\n",
       "      <td>0.0</td>\n",
       "      <td>0.0</td>\n",
       "      <td>1</td>\n",
       "      <td>0</td>\n",
       "    </tr>\n",
       "    <tr>\n",
       "      <th>3</th>\n",
       "      <td>1927233</td>\n",
       "      <td>43.0</td>\n",
       "      <td>12.0</td>\n",
       "      <td>38.0</td>\n",
       "      <td>3.6</td>\n",
       "      <td>1</td>\n",
       "      <td>1</td>\n",
       "    </tr>\n",
       "    <tr>\n",
       "      <th>4</th>\n",
       "      <td>234567</td>\n",
       "      <td>41.0</td>\n",
       "      <td>17.0</td>\n",
       "      <td>176.0</td>\n",
       "      <td>9.3</td>\n",
       "      <td>1</td>\n",
       "      <td>0</td>\n",
       "    </tr>\n",
       "  </tbody>\n",
       "</table>\n",
       "</div>"
      ],
      "text/plain": [
       "       User_id  User_Age  User_Work_year  Income  Debt  Borrow  Repay\n",
       "0      1435223      24.0             2.0    28.0  17.3       1      0\n",
       "1       172344      40.0            15.0   120.0   2.9       1      1\n",
       "2  18661377320       NaN             NaN     0.0   0.0       1      0\n",
       "3      1927233      43.0            12.0    38.0   3.6       1      1\n",
       "4       234567      41.0            17.0   176.0   9.3       1      0"
      ]
     },
     "execution_count": 4,
     "metadata": {},
     "output_type": "execute_result"
    }
   ],
   "source": [
    "data = loadData('root', 'xzx970413', 'Wechat_inf', \"User_inf\", 3306)\n",
    "data.head()"
   ]
  },
  {
   "cell_type": "markdown",
   "metadata": {},
   "source": [
    "### Preprocess data \n",
    "Now just delete rows that contain NaN,\n",
    "in future we could use some feature selection method"
   ]
  },
  {
   "cell_type": "code",
   "execution_count": 5,
   "metadata": {},
   "outputs": [
    {
     "name": "stdout",
     "output_type": "stream",
     "text": [
      "2\n"
     ]
    },
    {
     "data": {
      "text/html": [
       "<div>\n",
       "<style scoped>\n",
       "    .dataframe tbody tr th:only-of-type {\n",
       "        vertical-align: middle;\n",
       "    }\n",
       "\n",
       "    .dataframe tbody tr th {\n",
       "        vertical-align: top;\n",
       "    }\n",
       "\n",
       "    .dataframe thead th {\n",
       "        text-align: right;\n",
       "    }\n",
       "</style>\n",
       "<table border=\"1\" class=\"dataframe\">\n",
       "  <thead>\n",
       "    <tr style=\"text-align: right;\">\n",
       "      <th></th>\n",
       "      <th>User_id</th>\n",
       "      <th>User_Age</th>\n",
       "      <th>User_Work_year</th>\n",
       "      <th>Income</th>\n",
       "      <th>Debt</th>\n",
       "      <th>Borrow</th>\n",
       "      <th>Repay</th>\n",
       "    </tr>\n",
       "  </thead>\n",
       "  <tbody>\n",
       "    <tr>\n",
       "      <th>0</th>\n",
       "      <td>1435223</td>\n",
       "      <td>24.0</td>\n",
       "      <td>2.0</td>\n",
       "      <td>28.0</td>\n",
       "      <td>17.3</td>\n",
       "      <td>1</td>\n",
       "      <td>0</td>\n",
       "    </tr>\n",
       "    <tr>\n",
       "      <th>1</th>\n",
       "      <td>172344</td>\n",
       "      <td>40.0</td>\n",
       "      <td>15.0</td>\n",
       "      <td>120.0</td>\n",
       "      <td>2.9</td>\n",
       "      <td>1</td>\n",
       "      <td>1</td>\n",
       "    </tr>\n",
       "    <tr>\n",
       "      <th>3</th>\n",
       "      <td>1927233</td>\n",
       "      <td>43.0</td>\n",
       "      <td>12.0</td>\n",
       "      <td>38.0</td>\n",
       "      <td>3.6</td>\n",
       "      <td>1</td>\n",
       "      <td>1</td>\n",
       "    </tr>\n",
       "    <tr>\n",
       "      <th>4</th>\n",
       "      <td>234567</td>\n",
       "      <td>41.0</td>\n",
       "      <td>17.0</td>\n",
       "      <td>176.0</td>\n",
       "      <td>9.3</td>\n",
       "      <td>1</td>\n",
       "      <td>0</td>\n",
       "    </tr>\n",
       "    <tr>\n",
       "      <th>5</th>\n",
       "      <td>25233</td>\n",
       "      <td>39.0</td>\n",
       "      <td>20.0</td>\n",
       "      <td>67.0</td>\n",
       "      <td>30.6</td>\n",
       "      <td>1</td>\n",
       "      <td>1</td>\n",
       "    </tr>\n",
       "    <tr>\n",
       "      <th>6</th>\n",
       "      <td>2667623</td>\n",
       "      <td>28.0</td>\n",
       "      <td>10.0</td>\n",
       "      <td>31.0</td>\n",
       "      <td>17.3</td>\n",
       "      <td>0</td>\n",
       "      <td>1</td>\n",
       "    </tr>\n",
       "    <tr>\n",
       "      <th>7</th>\n",
       "      <td>34332423</td>\n",
       "      <td>27.0</td>\n",
       "      <td>0.0</td>\n",
       "      <td>16.0</td>\n",
       "      <td>1.7</td>\n",
       "      <td>0</td>\n",
       "      <td>1</td>\n",
       "    </tr>\n",
       "    <tr>\n",
       "      <th>8</th>\n",
       "      <td>657851236</td>\n",
       "      <td>21.0</td>\n",
       "      <td>0.0</td>\n",
       "      <td>0.0</td>\n",
       "      <td>0.0</td>\n",
       "      <td>1</td>\n",
       "      <td>1</td>\n",
       "    </tr>\n",
       "    <tr>\n",
       "      <th>9</th>\n",
       "      <td>7223654</td>\n",
       "      <td>36.0</td>\n",
       "      <td>13.0</td>\n",
       "      <td>25.0</td>\n",
       "      <td>19.7</td>\n",
       "      <td>0</td>\n",
       "      <td>0</td>\n",
       "    </tr>\n",
       "    <tr>\n",
       "      <th>10</th>\n",
       "      <td>783423</td>\n",
       "      <td>41.0</td>\n",
       "      <td>5.0</td>\n",
       "      <td>25.0</td>\n",
       "      <td>10.2</td>\n",
       "      <td>0</td>\n",
       "      <td>1</td>\n",
       "    </tr>\n",
       "  </tbody>\n",
       "</table>\n",
       "</div>"
      ],
      "text/plain": [
       "      User_id  User_Age  User_Work_year  Income  Debt  Borrow  Repay\n",
       "0     1435223      24.0             2.0    28.0  17.3       1      0\n",
       "1      172344      40.0            15.0   120.0   2.9       1      1\n",
       "3     1927233      43.0            12.0    38.0   3.6       1      1\n",
       "4      234567      41.0            17.0   176.0   9.3       1      0\n",
       "5       25233      39.0            20.0    67.0  30.6       1      1\n",
       "6     2667623      28.0            10.0    31.0  17.3       0      1\n",
       "7    34332423      27.0             0.0    16.0   1.7       0      1\n",
       "8   657851236      21.0             0.0     0.0   0.0       1      1\n",
       "9     7223654      36.0            13.0    25.0  19.7       0      0\n",
       "10     783423      41.0             5.0    25.0  10.2       0      1"
      ]
     },
     "execution_count": 5,
     "metadata": {},
     "output_type": "execute_result"
    }
   ],
   "source": [
    "nan_index = []\n",
    "\n",
    "for i in range(data.shape[0]):\n",
    "    if (data.iloc[i].isna().any()):\n",
    "        print(i)\n",
    "        nan_index.append(i)\n",
    "\n",
    "data = data.drop(nan_index, axis = 0)\n",
    "\n",
    "data"
   ]
  },
  {
   "cell_type": "markdown",
   "metadata": {},
   "source": [
    "### Get training/test data set and labels"
   ]
  },
  {
   "cell_type": "code",
   "execution_count": 6,
   "metadata": {},
   "outputs": [],
   "source": [
    "[Borrow, Repay] = splitData(data)\n",
    "\n",
    "(X_train1, X_test1, y_train1, y_test1) = Borrow\n",
    "(X_train2, X_test2, y_train2, y_test2) = Repay"
   ]
  },
  {
   "cell_type": "markdown",
   "metadata": {},
   "source": [
    "### Build the model"
   ]
  },
  {
   "cell_type": "code",
   "execution_count": 7,
   "metadata": {},
   "outputs": [],
   "source": [
    "GA_method = ['gradAscent', 'stocGradAscent', 'stocGradAscent1' ]\n",
    "weights_borrow = logisticRegressionModel(X_train1, \n",
    "                                         y_train1,\n",
    "                                         GA_method[1])\n",
    "weights_repay = logisticRegressionModel(X_train2, \n",
    "                                        y_train2,\n",
    "                                        GA_method[1])"
   ]
  },
  {
   "cell_type": "code",
   "execution_count": 8,
   "metadata": {},
   "outputs": [],
   "source": [
    "p1 = sigmoid(np.dot(X_test1, weights_borrow))\n",
    "y_predict1 = np.zeros(len(p1))\n",
    "for i in range(len(p1)):\n",
    "    if p1[i] >= 0.5:\n",
    "        y_predict1[i] = 1\n",
    "    else:\n",
    "         y_predict1[i] = 0\n",
    "\n",
    "p2 = sigmoid(np.dot(X_test2, weights_repay))\n",
    "y_predict2 = np.zeros(len(p2))\n",
    "for i in range(len(p2)):\n",
    "    if p2[i] >= 0.5:\n",
    "        y_predict2[i] = 1\n",
    "    else:\n",
    "         y_predict2[i] = 0"
   ]
  },
  {
   "cell_type": "markdown",
   "metadata": {},
   "source": [
    "### Accuracy"
   ]
  },
  {
   "cell_type": "code",
   "execution_count": 9,
   "metadata": {},
   "outputs": [
    {
     "name": "stdout",
     "output_type": "stream",
     "text": [
      "accuracy1 0.5\n",
      "accuracy2 1.0\n"
     ]
    }
   ],
   "source": [
    "accuracy1 = sum(y_predict1 == y_test1) / len(y_predict1)\n",
    "print(\"accuracy1\", accuracy1)\n",
    "accuracy2 = sum(y_predict2 == y_test2) / len(y_predict2)\n",
    "print(\"accuracy2\", accuracy2)"
   ]
  },
  {
   "cell_type": "markdown",
   "metadata": {},
   "source": [
    "### R-squared"
   ]
  },
  {
   "cell_type": "code",
   "execution_count": 10,
   "metadata": {},
   "outputs": [],
   "source": [
    "import math\n",
    "import numpy as np\n",
    "from scipy import stats"
   ]
  },
  {
   "cell_type": "code",
   "execution_count": 11,
   "metadata": {},
   "outputs": [
    {
     "name": "stdout",
     "output_type": "stream",
     "text": [
      "using math package：r-squared： -1.0\n",
      "using math package：r-squared： 1.0\n"
     ]
    }
   ],
   "source": [
    "def mathR(Y, Y_):\n",
    "    yBar = np.mean(Y)\n",
    "    SSR = 0\n",
    "    SST = 0\n",
    "    SSE = 0\n",
    "    varX = 0\n",
    "    varY = 0\n",
    "    for i in range(0 , len(Y)):\n",
    "        Y_YBardiff = Y_[i] - yBar\n",
    "        SSR += Y_YBardiff**2\n",
    "        \n",
    "        YYBardiff = Y[i] - yBar\n",
    "        SST += YYBardiff**2\n",
    "        \n",
    "        YY_diff = (Y[i] - Y_[i])\n",
    "        SSE  += YY_diff**2\n",
    "        \n",
    "    print (\"using math package：r-squared：\", 1 - SSE / SST)\n",
    "    return \n",
    "\n",
    "# For borrow class:\n",
    "mathR(y_test1, y_predict1)\n",
    "mathR(y_test2, y_predict2)"
   ]
  },
  {
   "cell_type": "code",
   "execution_count": 13,
   "metadata": {},
   "outputs": [
    {
     "name": "stdout",
     "output_type": "stream",
     "text": [
      "BORROW sklearn R^2: train: 0.390, test:-0.758\n",
      "BORROW self R^2: train: -0.067,test:-1.000\n",
      "REPAY sklearn R^2: train: 0.226,test:0.023\n",
      "REPAY self R^2: train: 0.333,test:1.000\n"
     ]
    }
   ],
   "source": [
    "from sklearn.metrics import r2_score\n",
    "from sklearn.linear_model import LinearRegression\n",
    "\n",
    "def R_square(y_train1, y_test1, y_train2, y_test2):\n",
    "    y_train_pred1t = calculate_predict(X_train1, weights_borrow)\n",
    "    y_test_pred1t = y_predict1\n",
    "    y_train_pred2t = calculate_predict(X_train2, weights_repay)\n",
    "    y_test_pred2t = y_predict2\n",
    "    \n",
    "    slr1=LinearRegression()\n",
    "    slr1.fit(X_train1,y_train1)\n",
    "    y_train_pred1=slr1.predict(X_train1)\n",
    "    y_test_pred1 = slr1.predict(X_test1)\n",
    "    \n",
    "    slr2=LinearRegression()\n",
    "    slr2.fit(X_train2,y_train2)\n",
    "    y_train_pred2=slr2.predict(X_train2)\n",
    "    y_test_pred2 = slr2.predict(X_test2)\n",
    "\n",
    "    print ('BORROW sklearn R^2: train: %.3f, test:%.3f' % (r2_score(y_train1,y_train_pred1),\n",
    "                                                             r2_score(y_test1,y_test_pred1)))\n",
    "    print ('BORROW self R^2: train: %.3f,test:%.3f' % (r2_score(y_train1,y_train_pred1t),\n",
    "                                                       r2_score(y_test1,y_test_pred1t)))\n",
    "    print ('REPAY sklearn R^2: train: %.3f,test:%.3f' % (r2_score(y_train2,y_train_pred2),\n",
    "                                                  r2_score(y_test2,y_test_pred2)))\n",
    "    print ('REPAY self R^2: train: %.3f,test:%.3f' % (r2_score(y_train2,y_train_pred2t),\n",
    "                                                      r2_score(y_test2,y_test_pred2t)))\n",
    "    \n",
    "R_square(y_train1, y_test1, y_train2, y_test2)"
   ]
  },
  {
   "cell_type": "markdown",
   "metadata": {},
   "source": [
    "### ROC & AUC"
   ]
  },
  {
   "cell_type": "code",
   "execution_count": 22,
   "metadata": {},
   "outputs": [
    {
     "name": "stdout",
     "output_type": "stream",
     "text": [
      "AUC: 1.0\n"
     ]
    },
    {
     "data": {
      "image/png": "[encoded data removed]",
      "text/plain": [
       "<Figure size 432x288 with 1 Axes>"
      ]
     },
     "metadata": {
      "needs_background": "light"
     },
     "output_type": "display_data"
    }
   ],
   "source": [
    "from sklearn.metrics import roc_curve, auc \n",
    "import matplotlib.pyplot as plt\n",
    "\n",
    "def ROCplot(labels, predict_prob):\n",
    "    FPR, TPR, thresholds = roc_curve(labels, predict_prob)\n",
    "    roc_auc = auc(FPR, TPR)\n",
    "    plt.title('ROC')\n",
    "    plt.plot(FPR, TPR,'b',label='ROC curve, area = %0.2f'% roc_auc)\n",
    "    plt.legend(loc='lower right')\n",
    "    print ('AUC:', roc_auc)\n",
    "    plt.plot([0,1],[0,1],'r--')\n",
    "    plt.ylabel('Time Positive Rate')\n",
    "    plt.xlabel('False Positive Rate')\n",
    "\n",
    "ROCplot(y_test2, y_predict2)"
   ]
  },
  {
   "cell_type": "markdown",
   "metadata": {},
   "source": [
    "### p-value/t-test"
   ]
  },
  {
   "cell_type": "code",
   "execution_count": null,
   "metadata": {},
   "outputs": [],
   "source": []
  }
 ],
 "metadata": {
  "kernelspec": {
   "display_name": "Python 3",
   "language": "python",
   "name": "python3"
  }
 },
 "nbformat": 4,
 "nbformat_minor": 2
}
