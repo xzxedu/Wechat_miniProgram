{
 "cells": [
  {
   "cell_type": "code",
   "execution_count": 1,
   "metadata": {},
   "outputs": [
    {
     "name": "stdout",
     "output_type": "stream",
     "text": [
      "id name password\n",
      "18661377320 None None\n",
      "657851236 21 0\n"
     ]
    }
   ],
   "source": [
    "import  pymysql\n",
    "import  pymysql.cursors\n",
    "\n",
    "db = pymysql.connect(host='localhost',\n",
    "                           user='root',\n",
    "                           password='xzx970413',\n",
    "                           db='Wechat_inf',\n",
    "                           port=3306,\n",
    "                           charset='utf8')\n",
    "\n",
    "# 使用cursor()方法获取操作游标\n",
    "cur = db.cursor()\n",
    " \n",
    "#1.查询操作\n",
    "# 编写sql 查询语句  user 对应我的表名\n",
    "sql = \"select * from User_inf\"\n",
    "try:\n",
    "\tcur.execute(sql) \t#执行sql语句\n",
    " \n",
    "\tresults = cur.fetchall()\t#获取查询的所有记录\n",
    "\tprint(\"id\",\"name\",\"password\")\n",
    "\t#遍历结果\n",
    "\tfor row in results :\n",
    "\t\tid = row[0]\n",
    "\t\tname = row[1]\n",
    "\t\tpassword = row[2]\n",
    "\t\tprint(id,name,password)\n",
    "except Exception as e:\n",
    "\traise e\n",
    "finally:\n",
    "\tdb.close()\t#关闭连接\n"
   ]
  },
  {
   "cell_type": "code",
   "execution_count": null,
   "metadata": {},
   "outputs": [],
   "source": []
  }
 ],
 "metadata": {
  "kernelspec": {
   "display_name": "Python 3",
   "language": "python",
   "name": "python3"
  },
  "language_info": {
   "codemirror_mode": {
    "name": "ipython",
    "version": 3
   },
   "file_extension": ".py",
   "mimetype": "text/x-python",
   "name": "python",
   "nbconvert_exporter": "python",
   "pygments_lexer": "ipython3",
   "version": "3.7.2"
  }
 },
 "nbformat": 4,
 "nbformat_minor": 2
}
