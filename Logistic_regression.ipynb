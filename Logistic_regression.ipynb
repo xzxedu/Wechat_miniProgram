{
 "cells": [
  {
   "cell_type": "code",
   "execution_count": 1,
   "metadata": {},
   "outputs": [],
   "source": [
    "import numpy as np\n",
    "import seaborn as sns\n",
    "import struct\n",
    "import pymysql\n",
    "import pymysql.cursors\n",
    "import matplotlib.pyplot as plt"
   ]
  },
  {
   "cell_type": "markdown",
   "metadata": {},
   "source": [
    "### Acquire data from sql"
   ]
  },
  {
   "cell_type": "code",
   "execution_count": 2,
   "metadata": {
    "scrolled": true
   },
   "outputs": [
    {
     "name": "stdout",
     "output_type": "stream",
     "text": [
      "id borrow repay\n",
      "1435223 1 0\n",
      "172344 1 1\n",
      "18661377320 1 0\n",
      "1927233 1 1\n",
      "234567 1 0\n",
      "25233 1 1\n",
      "2667623 0 1\n",
      "34332423 0 1\n",
      "657851236 1 1\n",
      "7223654 0 0\n",
      "783423 0 1\n"
     ]
    }
   ],
   "source": [
    "db = pymysql.connect(host='localhost',\n",
    "                           user='root',\n",
    "                           password='xzx970413',\n",
    "                           db='Wechat_inf',\n",
    "                           port=3306,\n",
    "                           charset='utf8')\n",
    "\n",
    "cur = db.cursor()\n",
    "\n",
    "sql = \"select * from User_inf\"\n",
    "try:\n",
    "\tcur.execute(sql) \n",
    " \n",
    "\tresults = cur.fetchall()\n",
    "\tprint(\"id\",\"borrow\",\"repay\")\n",
    "\t#遍历结果\n",
    "\tfor row in results :\n",
    "\t\tid = row[0]\n",
    "\t\tname = int.from_bytes(row[-2], byteorder='little', signed=True) - 48\n",
    "\t\tpassword = int.from_bytes(row[-1], byteorder='little', signed=True) - 48\n",
    "        #password = row[-1].decode(\"utf-8\") \n",
    "\t\tprint(id,name,password)\n",
    "except Exception as e:\n",
    "\traise e\n",
    "finally:\n",
    "\tdb.close()\n"
   ]
  },
  {
   "cell_type": "markdown",
   "metadata": {},
   "source": [
    "### Preprocess data"
   ]
  },
  {
   "cell_type": "code",
   "execution_count": 3,
   "metadata": {},
   "outputs": [
    {
     "name": "stdout",
     "output_type": "stream",
     "text": [
      "   count  mean       std   min    25%   50%    75%   max\n",
      "1   10.0  34.0  8.151346  21.0  27.25  37.5  40.75  43.0\n",
      "2   10.0   9.4  7.244922   0.0   2.75  11.0  14.50  20.0\n"
     ]
    }
   ],
   "source": [
    "from pandas import DataFrame\n",
    "data  = DataFrame(list(results))\n",
    "print (data.describe().T)"
   ]
  },
  {
   "cell_type": "markdown",
   "metadata": {},
   "source": [
    "#### Change bytes to int"
   ]
  },
  {
   "cell_type": "code",
   "execution_count": 4,
   "metadata": {},
   "outputs": [
    {
     "data": {
      "text/html": [
       "<div>\n",
       "<style scoped>\n",
       "    .dataframe tbody tr th:only-of-type {\n",
       "        vertical-align: middle;\n",
       "    }\n",
       "\n",
       "    .dataframe tbody tr th {\n",
       "        vertical-align: top;\n",
       "    }\n",
       "\n",
       "    .dataframe thead th {\n",
       "        text-align: right;\n",
       "    }\n",
       "</style>\n",
       "<table border=\"1\" class=\"dataframe\">\n",
       "  <thead>\n",
       "    <tr style=\"text-align: right;\">\n",
       "      <th></th>\n",
       "      <th>User_id</th>\n",
       "      <th>User_Age</th>\n",
       "      <th>User_Work_year</th>\n",
       "      <th>Income</th>\n",
       "      <th>Debt</th>\n",
       "      <th>Borrow</th>\n",
       "      <th>Repay</th>\n",
       "    </tr>\n",
       "  </thead>\n",
       "  <tbody>\n",
       "    <tr>\n",
       "      <th>0</th>\n",
       "      <td>1435223</td>\n",
       "      <td>24.0</td>\n",
       "      <td>2.0</td>\n",
       "      <td>28.00</td>\n",
       "      <td>17.30</td>\n",
       "      <td>1</td>\n",
       "      <td>0</td>\n",
       "    </tr>\n",
       "    <tr>\n",
       "      <th>1</th>\n",
       "      <td>172344</td>\n",
       "      <td>40.0</td>\n",
       "      <td>15.0</td>\n",
       "      <td>120.00</td>\n",
       "      <td>2.90</td>\n",
       "      <td>1</td>\n",
       "      <td>1</td>\n",
       "    </tr>\n",
       "    <tr>\n",
       "      <th>2</th>\n",
       "      <td>18661377320</td>\n",
       "      <td>NaN</td>\n",
       "      <td>NaN</td>\n",
       "      <td>0.00</td>\n",
       "      <td>0.00</td>\n",
       "      <td>1</td>\n",
       "      <td>0</td>\n",
       "    </tr>\n",
       "    <tr>\n",
       "      <th>3</th>\n",
       "      <td>1927233</td>\n",
       "      <td>43.0</td>\n",
       "      <td>12.0</td>\n",
       "      <td>38.00</td>\n",
       "      <td>3.60</td>\n",
       "      <td>1</td>\n",
       "      <td>1</td>\n",
       "    </tr>\n",
       "    <tr>\n",
       "      <th>4</th>\n",
       "      <td>234567</td>\n",
       "      <td>41.0</td>\n",
       "      <td>17.0</td>\n",
       "      <td>176.00</td>\n",
       "      <td>9.30</td>\n",
       "      <td>1</td>\n",
       "      <td>0</td>\n",
       "    </tr>\n",
       "    <tr>\n",
       "      <th>5</th>\n",
       "      <td>25233</td>\n",
       "      <td>39.0</td>\n",
       "      <td>20.0</td>\n",
       "      <td>67.00</td>\n",
       "      <td>30.60</td>\n",
       "      <td>1</td>\n",
       "      <td>1</td>\n",
       "    </tr>\n",
       "    <tr>\n",
       "      <th>6</th>\n",
       "      <td>2667623</td>\n",
       "      <td>28.0</td>\n",
       "      <td>10.0</td>\n",
       "      <td>31.00</td>\n",
       "      <td>17.30</td>\n",
       "      <td>0</td>\n",
       "      <td>1</td>\n",
       "    </tr>\n",
       "    <tr>\n",
       "      <th>7</th>\n",
       "      <td>34332423</td>\n",
       "      <td>27.0</td>\n",
       "      <td>0.0</td>\n",
       "      <td>16.00</td>\n",
       "      <td>1.70</td>\n",
       "      <td>0</td>\n",
       "      <td>1</td>\n",
       "    </tr>\n",
       "    <tr>\n",
       "      <th>8</th>\n",
       "      <td>657851236</td>\n",
       "      <td>21.0</td>\n",
       "      <td>0.0</td>\n",
       "      <td>0.00</td>\n",
       "      <td>0.00</td>\n",
       "      <td>1</td>\n",
       "      <td>1</td>\n",
       "    </tr>\n",
       "    <tr>\n",
       "      <th>9</th>\n",
       "      <td>7223654</td>\n",
       "      <td>36.0</td>\n",
       "      <td>13.0</td>\n",
       "      <td>25.00</td>\n",
       "      <td>19.70</td>\n",
       "      <td>0</td>\n",
       "      <td>0</td>\n",
       "    </tr>\n",
       "    <tr>\n",
       "      <th>10</th>\n",
       "      <td>783423</td>\n",
       "      <td>41.0</td>\n",
       "      <td>5.0</td>\n",
       "      <td>25.00</td>\n",
       "      <td>10.20</td>\n",
       "      <td>0</td>\n",
       "      <td>1</td>\n",
       "    </tr>\n",
       "  </tbody>\n",
       "</table>\n",
       "</div>"
      ],
      "text/plain": [
       "        User_id  User_Age  User_Work_year  Income   Debt  Borrow  Repay\n",
       "0       1435223      24.0             2.0   28.00  17.30       1      0\n",
       "1        172344      40.0            15.0  120.00   2.90       1      1\n",
       "2   18661377320       NaN             NaN    0.00   0.00       1      0\n",
       "3       1927233      43.0            12.0   38.00   3.60       1      1\n",
       "4        234567      41.0            17.0  176.00   9.30       1      0\n",
       "5         25233      39.0            20.0   67.00  30.60       1      1\n",
       "6       2667623      28.0            10.0   31.00  17.30       0      1\n",
       "7      34332423      27.0             0.0   16.00   1.70       0      1\n",
       "8     657851236      21.0             0.0    0.00   0.00       1      1\n",
       "9       7223654      36.0            13.0   25.00  19.70       0      0\n",
       "10       783423      41.0             5.0   25.00  10.20       0      1"
      ]
     },
     "execution_count": 4,
     "metadata": {},
     "output_type": "execute_result"
    }
   ],
   "source": [
    "data.columns = np.asarray(cur.description)[:, 0]\n",
    "data['Borrow'] = data['Borrow'].map(lambda x: int.from_bytes(x, byteorder='little', \n",
    "                                                             signed=True) - 48)\n",
    "data['Repay'] = data['Repay'].map(lambda x: int.from_bytes(x, byteorder='little', \n",
    "                                                           signed=True) - 48)\n",
    "data"
   ]
  },
  {
   "cell_type": "markdown",
   "metadata": {},
   "source": [
    "#### Delete rows that has NaN data"
   ]
  },
  {
   "cell_type": "code",
   "execution_count": 6,
   "metadata": {},
   "outputs": [
    {
     "data": {
      "text/html": [
       "<div>\n",
       "<style scoped>\n",
       "    .dataframe tbody tr th:only-of-type {\n",
       "        vertical-align: middle;\n",
       "    }\n",
       "\n",
       "    .dataframe tbody tr th {\n",
       "        vertical-align: top;\n",
       "    }\n",
       "\n",
       "    .dataframe thead th {\n",
       "        text-align: right;\n",
       "    }\n",
       "</style>\n",
       "<table border=\"1\" class=\"dataframe\">\n",
       "  <thead>\n",
       "    <tr style=\"text-align: right;\">\n",
       "      <th></th>\n",
       "      <th>User_id</th>\n",
       "      <th>User_Age</th>\n",
       "      <th>User_Work_year</th>\n",
       "      <th>Income</th>\n",
       "      <th>Debt</th>\n",
       "      <th>Borrow</th>\n",
       "      <th>Repay</th>\n",
       "    </tr>\n",
       "  </thead>\n",
       "  <tbody>\n",
       "    <tr>\n",
       "      <th>0</th>\n",
       "      <td>1435223</td>\n",
       "      <td>24.0</td>\n",
       "      <td>2.0</td>\n",
       "      <td>28.00</td>\n",
       "      <td>17.30</td>\n",
       "      <td>1</td>\n",
       "      <td>0</td>\n",
       "    </tr>\n",
       "    <tr>\n",
       "      <th>1</th>\n",
       "      <td>172344</td>\n",
       "      <td>40.0</td>\n",
       "      <td>15.0</td>\n",
       "      <td>120.00</td>\n",
       "      <td>2.90</td>\n",
       "      <td>1</td>\n",
       "      <td>1</td>\n",
       "    </tr>\n",
       "    <tr>\n",
       "      <th>3</th>\n",
       "      <td>1927233</td>\n",
       "      <td>43.0</td>\n",
       "      <td>12.0</td>\n",
       "      <td>38.00</td>\n",
       "      <td>3.60</td>\n",
       "      <td>1</td>\n",
       "      <td>1</td>\n",
       "    </tr>\n",
       "    <tr>\n",
       "      <th>4</th>\n",
       "      <td>234567</td>\n",
       "      <td>41.0</td>\n",
       "      <td>17.0</td>\n",
       "      <td>176.00</td>\n",
       "      <td>9.30</td>\n",
       "      <td>1</td>\n",
       "      <td>0</td>\n",
       "    </tr>\n",
       "    <tr>\n",
       "      <th>5</th>\n",
       "      <td>25233</td>\n",
       "      <td>39.0</td>\n",
       "      <td>20.0</td>\n",
       "      <td>67.00</td>\n",
       "      <td>30.60</td>\n",
       "      <td>1</td>\n",
       "      <td>1</td>\n",
       "    </tr>\n",
       "    <tr>\n",
       "      <th>6</th>\n",
       "      <td>2667623</td>\n",
       "      <td>28.0</td>\n",
       "      <td>10.0</td>\n",
       "      <td>31.00</td>\n",
       "      <td>17.30</td>\n",
       "      <td>0</td>\n",
       "      <td>1</td>\n",
       "    </tr>\n",
       "    <tr>\n",
       "      <th>7</th>\n",
       "      <td>34332423</td>\n",
       "      <td>27.0</td>\n",
       "      <td>0.0</td>\n",
       "      <td>16.00</td>\n",
       "      <td>1.70</td>\n",
       "      <td>0</td>\n",
       "      <td>1</td>\n",
       "    </tr>\n",
       "    <tr>\n",
       "      <th>8</th>\n",
       "      <td>657851236</td>\n",
       "      <td>21.0</td>\n",
       "      <td>0.0</td>\n",
       "      <td>0.00</td>\n",
       "      <td>0.00</td>\n",
       "      <td>1</td>\n",
       "      <td>1</td>\n",
       "    </tr>\n",
       "    <tr>\n",
       "      <th>9</th>\n",
       "      <td>7223654</td>\n",
       "      <td>36.0</td>\n",
       "      <td>13.0</td>\n",
       "      <td>25.00</td>\n",
       "      <td>19.70</td>\n",
       "      <td>0</td>\n",
       "      <td>0</td>\n",
       "    </tr>\n",
       "    <tr>\n",
       "      <th>10</th>\n",
       "      <td>783423</td>\n",
       "      <td>41.0</td>\n",
       "      <td>5.0</td>\n",
       "      <td>25.00</td>\n",
       "      <td>10.20</td>\n",
       "      <td>0</td>\n",
       "      <td>1</td>\n",
       "    </tr>\n",
       "  </tbody>\n",
       "</table>\n",
       "</div>"
      ],
      "text/plain": [
       "      User_id  User_Age  User_Work_year  Income   Debt  Borrow  Repay\n",
       "0     1435223      24.0             2.0   28.00  17.30       1      0\n",
       "1      172344      40.0            15.0  120.00   2.90       1      1\n",
       "3     1927233      43.0            12.0   38.00   3.60       1      1\n",
       "4      234567      41.0            17.0  176.00   9.30       1      0\n",
       "5       25233      39.0            20.0   67.00  30.60       1      1\n",
       "6     2667623      28.0            10.0   31.00  17.30       0      1\n",
       "7    34332423      27.0             0.0   16.00   1.70       0      1\n",
       "8   657851236      21.0             0.0    0.00   0.00       1      1\n",
       "9     7223654      36.0            13.0   25.00  19.70       0      0\n",
       "10     783423      41.0             5.0   25.00  10.20       0      1"
      ]
     },
     "execution_count": 6,
     "metadata": {},
     "output_type": "execute_result"
    }
   ],
   "source": [
    "nan_index = []\n",
    "\n",
    "for i in range(data.shape[0]):\n",
    "    if (data.iloc[i].isna().any()):\n",
    "        print(i)\n",
    "        nan_index.append(i)\n",
    "\n",
    "data = data.drop(nan_index, axis = 0)\n",
    "\n",
    "data"
   ]
  },
  {
   "cell_type": "markdown",
   "metadata": {},
   "source": [
    "#### Plot distribution of user age (e.g.)"
   ]
  },
  {
   "cell_type": "code",
   "execution_count": 8,
   "metadata": {},
   "outputs": [
    {
     "name": "stderr",
     "output_type": "stream",
     "text": [
      "/Users/macbook/miniconda3/envs/mlp/lib/python3.7/site-packages/scipy/stats/stats.py:1713: FutureWarning: Using a non-tuple sequence for multidimensional indexing is deprecated; use `arr[tuple(seq)]` instead of `arr[seq]`. In the future this will be interpreted as an array index, `arr[np.array(seq)]`, which will result either in an error or a different result.\n",
      "  return np.add.reduce(sorted[indexer] * weights, axis=axis) / sumval\n"
     ]
    },
    {
     "data": {
      "image/png": "[encoded data removed]",
      "text/plain": [
       "<Figure size 432x288 with 1 Axes>"
      ]
     },
     "metadata": {
      "needs_background": "light"
     },
     "output_type": "display_data"
    }
   ],
   "source": [
    "data_age = data[u'User_Age'].dropna()\n",
    "sns.distplot(data_age)\n",
    "plt.rcParams['axes.unicode_minus'] = False "
   ]
  },
  {
   "cell_type": "code",
   "execution_count": 9,
   "metadata": {},
   "outputs": [
    {
     "data": {
      "text/plain": [
       "{'whiskers': [<matplotlib.lines.Line2D at 0x1a1ae58908>,\n",
       "  <matplotlib.lines.Line2D at 0x1a1ae3b320>],\n",
       " 'caps': [<matplotlib.lines.Line2D at 0x1a1ae3b978>,\n",
       "  <matplotlib.lines.Line2D at 0x1a1ae3b908>],\n",
       " 'boxes': [<matplotlib.lines.Line2D at 0x1a1ae58e10>],\n",
       " 'medians': [<matplotlib.lines.Line2D at 0x1a1ae3bcf8>],\n",
       " 'fliers': [<matplotlib.lines.Line2D at 0x1a1ae600b8>],\n",
       " 'means': []}"
      ]
     },
     "execution_count": 9,
     "metadata": {},
     "output_type": "execute_result"
    },
    {
     "data": {
      "image/png": "[encoded data removed]",
      "text/plain": [
       "<Figure size 432x288 with 1 Axes>"
      ]
     },
     "metadata": {
      "needs_background": "light"
     },
     "output_type": "display_data"
    }
   ],
   "source": [
    "plt.boxplot(data_age)"
   ]
  },
  {
   "cell_type": "markdown",
   "metadata": {},
   "source": [
    "#### Split columns to input and output"
   ]
  },
  {
   "cell_type": "code",
   "execution_count": 10,
   "metadata": {},
   "outputs": [],
   "source": [
    "x = data.iloc[:, 1:5].values\n",
    "y_borrow = data.iloc[:, 5].values\n",
    "y_repay = data.iloc[:, 6].values"
   ]
  },
  {
   "cell_type": "code",
   "execution_count": 11,
   "metadata": {},
   "outputs": [
    {
     "name": "stdout",
     "output_type": "stream",
     "text": [
      "[[24.0 2.0 Decimal('28.00') Decimal('17.30')]\n",
      " [40.0 15.0 Decimal('120.00') Decimal('2.90')]\n",
      " [43.0 12.0 Decimal('38.00') Decimal('3.60')]\n",
      " [41.0 17.0 Decimal('176.00') Decimal('9.30')]\n",
      " [39.0 20.0 Decimal('67.00') Decimal('30.60')]\n",
      " [28.0 10.0 Decimal('31.00') Decimal('17.30')]\n",
      " [27.0 0.0 Decimal('16.00') Decimal('1.70')]\n",
      " [21.0 0.0 Decimal('0.00') Decimal('0.00')]\n",
      " [36.0 13.0 Decimal('25.00') Decimal('19.70')]\n",
      " [41.0 5.0 Decimal('25.00') Decimal('10.20')]]\n",
      "[1 1 1 1 1 0 0 1 0 0]\n",
      "[0 1 1 0 1 1 1 1 0 1]\n"
     ]
    }
   ],
   "source": [
    "print(x)\n",
    "print(y_borrow)\n",
    "print(y_repay)"
   ]
  },
  {
   "cell_type": "markdown",
   "metadata": {},
   "source": [
    "#### Choose the feature\n",
    "(lack: as the data is small, haven't use feature selection so far)\n",
    "Just delete the data that has NaN"
   ]
  },
  {
   "cell_type": "markdown",
   "metadata": {},
   "source": [
    "#### split dataset to training and test set"
   ]
  },
  {
   "cell_type": "code",
   "execution_count": 19,
   "metadata": {},
   "outputs": [],
   "source": [
    "from sklearn.model_selection import train_test_split\n",
    "\n",
    "X_train1, X_test1, y_train1, y_test1 = train_test_split( x, y_borrow,\n",
    "                                                         test_size = 0.2, \n",
    "                                                         stratify = y_borrow, \n",
    "                                                         random_state = 0)\n",
    "\n",
    "X_train2, X_test2, y_train2, y_test2 = train_test_split( x, y_repay,\n",
    "                                                         test_size = 0.2, \n",
    "                                                         stratify = y_repay, \n",
    "                                                         random_state = 0)"
   ]
  },
  {
   "cell_type": "markdown",
   "metadata": {},
   "source": [
    "### Build the model"
   ]
  },
  {
   "cell_type": "code",
   "execution_count": null,
   "metadata": {},
   "outputs": [],
   "source": [
    "from sklearn.linear_model import LogisticRegression"
   ]
  },
  {
   "cell_type": "markdown",
   "metadata": {},
   "source": [
    "#### Borrow model"
   ]
  },
  {
   "cell_type": "code",
   "execution_count": 34,
   "metadata": {},
   "outputs": [
    {
     "name": "stdout",
     "output_type": "stream",
     "text": [
      "0.5\n"
     ]
    }
   ],
   "source": [
    "# lbfgs - L2 regularization\n",
    "model_borrow = LogisticRegression(solver='lbfgs')\n",
    "model_borrow.fit(x, y_borrow)\n",
    "\n",
    "y_predict1 = model_borrow.predict(X_test1)\n",
    "accuracy = sum(y_test1 == y_predict1)/y_predict1.size\n",
    "print(accuracy)\n",
    "# plt.figure(1, figsize=(4, 3))\n",
    "# plt.clf()\n",
    "# plt.scatter(x.ravel(), y_borrow, color='black')\n",
    "# # X_test = np.linspace(-5, 10, 300)"
   ]
  },
  {
   "cell_type": "markdown",
   "metadata": {},
   "source": [
    "#### Repay model"
   ]
  },
  {
   "cell_type": "code",
   "execution_count": 35,
   "metadata": {},
   "outputs": [
    {
     "name": "stdout",
     "output_type": "stream",
     "text": [
      "1.0\n"
     ]
    }
   ],
   "source": [
    "model_repay = LogisticRegression(solver='lbfgs')\n",
    "model_repay.fit(x, y_repay)\n",
    "\n",
    "y_predict2 = model_repay.predict(X_test2)\n",
    "accuracy = sum(y_test2 == y_predict2)/y_predict2.size\n",
    "print(accuracy)"
   ]
  }
 ],
 "metadata": {
  "kernelspec": {
   "display_name": "Python 3",
   "language": "python",
   "name": "python3"
  },
  "language_info": {
   "codemirror_mode": {
    "name": "ipython",
    "version": 3
   },
   "file_extension": ".py",
   "mimetype": "text/x-python",
   "name": "python",
   "nbconvert_exporter": "python",
   "pygments_lexer": "ipython3",
   "version": "3.7.2"
  }
 },
 "nbformat": 4,
 "nbformat_minor": 2
}
