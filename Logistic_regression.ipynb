{
 "cells": [
  {
   "cell_type": "code",
   "execution_count": 1,
   "metadata": {},
   "outputs": [],
   "source": [
    "import numpy as np\n",
    "import seaborn as sns\n",
    "import struct\n",
    "import  pymysql\n",
    "import  pymysql.cursors"
   ]
  },
  {
   "cell_type": "code",
   "execution_count": 2,
   "metadata": {
    "scrolled": true
   },
   "outputs": [
    {
     "name": "stdout",
     "output_type": "stream",
     "text": [
      "id borrow repay\n",
      "1435223 1\u0000 0\u0000\n",
      "172344 1\u0000 1\u0000\n",
      "18661377320 1\u0000 0\u0000\n",
      "1927233 1\u0000 1\u0000\n",
      "234567 1\u0000 0\u0000\n",
      "25233 1\u0000 1\u0000\n",
      "2667623 0\u0000 1\u0000\n",
      "34332423 0\u0000 1\u0000\n",
      "657851236 1\u0000 1\u0000\n",
      "7223654 0\u0000 0\u0000\n",
      "783423 0\u0000 1\u0000\n"
     ]
    }
   ],
   "source": [
    "db = pymysql.connect(host='localhost',\n",
    "                           user='root',\n",
    "                           password='xzx970413',\n",
    "                           db='Wechat_inf',\n",
    "                           port=3306,\n",
    "                           charset='utf8')\n",
    "\n",
    "cur = db.cursor()\n",
    "\n",
    "sql = \"select * from User_inf\"\n",
    "try:\n",
    "\tcur.execute(sql) \n",
    " \n",
    "\tresults = cur.fetchall()\n",
    "\tprint(\"id\",\"borrow\",\"repay\")\n",
    "\t#遍历结果\n",
    "\tfor row in results :\n",
    "\t\tid = row[0]\n",
    "\t\tname = row[-2].decode(\"utf-8\")\n",
    "\t\tpassword = row[-1].decode(\"utf-8\") \n",
    "\t\tprint(id,name,password)\n",
    "except Exception as e:\n",
    "\traise e\n",
    "finally:\n",
    "\tdb.close()\n"
   ]
  },
  {
   "cell_type": "code",
   "execution_count": 3,
   "metadata": {},
   "outputs": [
    {
     "name": "stdout",
     "output_type": "stream",
     "text": [
      "   count  mean       std   min    25%   50%    75%   max\n",
      "1   10.0  34.0  8.151346  21.0  27.25  37.5  40.75  43.0\n",
      "2   10.0   9.4  7.244922   0.0   2.75  11.0  14.50  20.0\n"
     ]
    }
   ],
   "source": [
    "from pandas import DataFrame\n",
    "data  = DataFrame(list(results))\n",
    "print (data.describe().T)"
   ]
  },
  {
   "cell_type": "code",
   "execution_count": 4,
   "metadata": {},
   "outputs": [
    {
     "data": {
      "text/html": [
       "<div>\n",
       "<style scoped>\n",
       "    .dataframe tbody tr th:only-of-type {\n",
       "        vertical-align: middle;\n",
       "    }\n",
       "\n",
       "    .dataframe tbody tr th {\n",
       "        vertical-align: top;\n",
       "    }\n",
       "\n",
       "    .dataframe thead th {\n",
       "        text-align: right;\n",
       "    }\n",
       "</style>\n",
       "<table border=\"1\" class=\"dataframe\">\n",
       "  <thead>\n",
       "    <tr style=\"text-align: right;\">\n",
       "      <th></th>\n",
       "      <th>User_id</th>\n",
       "      <th>User_Age</th>\n",
       "      <th>User_Work_year</th>\n",
       "      <th>Income</th>\n",
       "      <th>Debt</th>\n",
       "      <th>Borrow</th>\n",
       "      <th>Repay</th>\n",
       "    </tr>\n",
       "  </thead>\n",
       "  <tbody>\n",
       "    <tr>\n",
       "      <th>0</th>\n",
       "      <td>1435223</td>\n",
       "      <td>24.0</td>\n",
       "      <td>2.0</td>\n",
       "      <td>28.00</td>\n",
       "      <td>17.30</td>\n",
       "      <td>1\u0000</td>\n",
       "      <td>0\u0000</td>\n",
       "    </tr>\n",
       "    <tr>\n",
       "      <th>1</th>\n",
       "      <td>172344</td>\n",
       "      <td>40.0</td>\n",
       "      <td>15.0</td>\n",
       "      <td>120.00</td>\n",
       "      <td>2.90</td>\n",
       "      <td>1\u0000</td>\n",
       "      <td>1\u0000</td>\n",
       "    </tr>\n",
       "    <tr>\n",
       "      <th>2</th>\n",
       "      <td>18661377320</td>\n",
       "      <td>NaN</td>\n",
       "      <td>NaN</td>\n",
       "      <td>0.00</td>\n",
       "      <td>0.00</td>\n",
       "      <td>1\u0000</td>\n",
       "      <td>0\u0000</td>\n",
       "    </tr>\n",
       "    <tr>\n",
       "      <th>3</th>\n",
       "      <td>1927233</td>\n",
       "      <td>43.0</td>\n",
       "      <td>12.0</td>\n",
       "      <td>38.00</td>\n",
       "      <td>3.60</td>\n",
       "      <td>1\u0000</td>\n",
       "      <td>1\u0000</td>\n",
       "    </tr>\n",
       "    <tr>\n",
       "      <th>4</th>\n",
       "      <td>234567</td>\n",
       "      <td>41.0</td>\n",
       "      <td>17.0</td>\n",
       "      <td>176.00</td>\n",
       "      <td>9.30</td>\n",
       "      <td>1\u0000</td>\n",
       "      <td>0\u0000</td>\n",
       "    </tr>\n",
       "    <tr>\n",
       "      <th>5</th>\n",
       "      <td>25233</td>\n",
       "      <td>39.0</td>\n",
       "      <td>20.0</td>\n",
       "      <td>67.00</td>\n",
       "      <td>30.60</td>\n",
       "      <td>1\u0000</td>\n",
       "      <td>1\u0000</td>\n",
       "    </tr>\n",
       "    <tr>\n",
       "      <th>6</th>\n",
       "      <td>2667623</td>\n",
       "      <td>28.0</td>\n",
       "      <td>10.0</td>\n",
       "      <td>31.00</td>\n",
       "      <td>17.30</td>\n",
       "      <td>0\u0000</td>\n",
       "      <td>1\u0000</td>\n",
       "    </tr>\n",
       "    <tr>\n",
       "      <th>7</th>\n",
       "      <td>34332423</td>\n",
       "      <td>27.0</td>\n",
       "      <td>0.0</td>\n",
       "      <td>16.00</td>\n",
       "      <td>1.70</td>\n",
       "      <td>0\u0000</td>\n",
       "      <td>1\u0000</td>\n",
       "    </tr>\n",
       "    <tr>\n",
       "      <th>8</th>\n",
       "      <td>657851236</td>\n",
       "      <td>21.0</td>\n",
       "      <td>0.0</td>\n",
       "      <td>0.00</td>\n",
       "      <td>0.00</td>\n",
       "      <td>1\u0000</td>\n",
       "      <td>1\u0000</td>\n",
       "    </tr>\n",
       "    <tr>\n",
       "      <th>9</th>\n",
       "      <td>7223654</td>\n",
       "      <td>36.0</td>\n",
       "      <td>13.0</td>\n",
       "      <td>25.00</td>\n",
       "      <td>19.70</td>\n",
       "      <td>0\u0000</td>\n",
       "      <td>0\u0000</td>\n",
       "    </tr>\n",
       "    <tr>\n",
       "      <th>10</th>\n",
       "      <td>783423</td>\n",
       "      <td>41.0</td>\n",
       "      <td>5.0</td>\n",
       "      <td>25.00</td>\n",
       "      <td>10.20</td>\n",
       "      <td>0\u0000</td>\n",
       "      <td>1\u0000</td>\n",
       "    </tr>\n",
       "  </tbody>\n",
       "</table>\n",
       "</div>"
      ],
      "text/plain": [
       "        User_id  User_Age  User_Work_year  Income   Debt Borrow Repay\n",
       "0       1435223      24.0             2.0   28.00  17.30     1\u0000    0\u0000\n",
       "1        172344      40.0            15.0  120.00   2.90     1\u0000    1\u0000\n",
       "2   18661377320       NaN             NaN    0.00   0.00     1\u0000    0\u0000\n",
       "3       1927233      43.0            12.0   38.00   3.60     1\u0000    1\u0000\n",
       "4        234567      41.0            17.0  176.00   9.30     1\u0000    0\u0000\n",
       "5         25233      39.0            20.0   67.00  30.60     1\u0000    1\u0000\n",
       "6       2667623      28.0            10.0   31.00  17.30     0\u0000    1\u0000\n",
       "7      34332423      27.0             0.0   16.00   1.70     0\u0000    1\u0000\n",
       "8     657851236      21.0             0.0    0.00   0.00     1\u0000    1\u0000\n",
       "9       7223654      36.0            13.0   25.00  19.70     0\u0000    0\u0000\n",
       "10       783423      41.0             5.0   25.00  10.20     0\u0000    1\u0000"
      ]
     },
     "execution_count": 4,
     "metadata": {},
     "output_type": "execute_result"
    }
   ],
   "source": [
    "data.columns = np.asarray(cur.description)[:, 0]\n",
    "data['Borrow'] = data['Borrow'].map(lambda x: x.decode(\"utf-8\"))\n",
    "data['Repay'] = data['Repay'].map(lambda x: x.decode(\"utf-8\"))\n",
    "data"
   ]
  },
  {
   "cell_type": "code",
   "execution_count": 8,
   "metadata": {},
   "outputs": [
    {
     "data": {
      "text/plain": [
       "<matplotlib.axes._subplots.AxesSubplot at 0x1a246a9e48>"
      ]
     },
     "execution_count": 8,
     "metadata": {},
     "output_type": "execute_result"
    },
    {
     "data": {
      "image/png": "[encoded data removed]",
      "text/plain": [
       "<Figure size 432x288 with 1 Axes>"
      ]
     },
     "metadata": {
      "needs_background": "light"
     },
     "output_type": "display_data"
    }
   ],
   "source": [
    "data1 = data[u'User_Age'].dropna()\n",
    "sns.distplot([data1])"
   ]
  },
  {
   "cell_type": "code",
   "execution_count": null,
   "metadata": {},
   "outputs": [],
   "source": []
  }
 ],
 "metadata": {
  "kernelspec": {
   "display_name": "Python 3",
   "language": "python",
   "name": "python3"
  },
  "language_info": {
   "codemirror_mode": {
    "name": "ipython",
    "version": 3
   },
   "file_extension": ".py",
   "mimetype": "text/x-python",
   "name": "python",
   "nbconvert_exporter": "python",
   "pygments_lexer": "ipython3",
   "version": "3.7.2"
  }
 },
 "nbformat": 4,
 "nbformat_minor": 2
}
